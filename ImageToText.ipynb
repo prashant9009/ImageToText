{
 "cells": [
  {
   "cell_type": "code",
   "execution_count": null,
   "metadata": {},
   "outputs": [
    {
     "name": "stdout",
     "output_type": "stream",
     "text": [
      "es a.\n",
      "\n",
      "14:23 London St Pancras fp i444\n",
      "\n",
      "Calling atvod Junction, East Croydon, Purl\n",
      "\n",
      "3rd 14:51 Moorgate On time\n",
      "14:36:00\n",
      "\f",
      "\n"
     ]
    }
   ],
   "source": [
    "import os\n",
    "from PIL import Image\n",
    "import pytesseract as pyt\n",
    "import argparse\n",
    "import cv2\n",
    "import numpy as np\n",
    "\n",
    "image = cv2.imread('IMG-20201224-WA0006.jpg')\n",
    "gray = cv2.cvtColor(image, cv2.COLOR_BGR2GRAY)\n",
    "blur = cv2.GaussianBlur(gray, (3,3), 0)\n",
    "# blur = cv2.medianBlur(gray, 3)\n",
    "thresh = cv2.threshold(blur,0, 255, cv2.THRESH_BINARY_INV + cv2.THRESH_OTSU)[1]\n",
    "\n",
    "# kernel1 = cv2.getStructuringElement(cv2.MORPH_RECT, (3,3))\n",
    "# kernel2 = cv2.getStructuringElement(cv2.MORPH_ELLIPSE, (3,3))\n",
    "kernel3 = cv2.getStructuringElement(cv2.MORPH_CROSS, (3,3))\n",
    "\n",
    "# dilation = cv2.dilate(thresh,kernel1,iterations = 1)\n",
    "# closing = cv2.morphologyEx(thresh, cv2.MORPH_CLOSE, kernel1)\n",
    "\n",
    "opening = cv2.morphologyEx(thresh, cv2.MORPH_OPEN, kernel3, iterations=1)\n",
    "# opening = cv2.dilate(opening,kernel,iterations = 1)\n",
    "\n",
    "# invert = 255-opening\n",
    "\n",
    "# data = pyt.image_to_string(thresh, lang ='eng',config='--psm 10 --oem 3 -c tessedit_char_whitelist=0123456789')\n",
    "data = pyt.image_to_string(opening, lang='eng', config='--psm 6')\n",
    "print(data)\n",
    "\n",
    "cv2.imshow('image',image)\n",
    "cv2.imshow('thresh', thresh)\n",
    "cv2.imshow('blur', blur)\n",
    "# cv2.imshow('invert', invert)\n",
    "# cv2.imshow('close', closing)\n",
    "cv2.imshow('open', opening)\n",
    "# cv2.imshow('dilation', dilation)\n",
    "\n",
    "\n",
    "cv2.waitKey(0)\n",
    "# if cv2.waitKey(0) & 0xff == 27:  \n",
    "#     cv2.destroyAllWindows()  \n",
    "\n"
   ]
  },
  {
   "cell_type": "code",
   "execution_count": null,
   "metadata": {},
   "outputs": [],
   "source": []
  },
  {
   "cell_type": "code",
   "execution_count": null,
   "metadata": {},
   "outputs": [],
   "source": []
  }
 ],
 "metadata": {
  "kernelspec": {
   "display_name": "Python 3",
   "language": "python",
   "name": "python3"
  },
  "language_info": {
   "codemirror_mode": {
    "name": "ipython",
    "version": 3
   },
   "file_extension": ".py",
   "mimetype": "text/x-python",
   "name": "python",
   "nbconvert_exporter": "python",
   "pygments_lexer": "ipython3",
   "version": "3.6.12"
  }
 },
 "nbformat": 4,
 "nbformat_minor": 4
}
